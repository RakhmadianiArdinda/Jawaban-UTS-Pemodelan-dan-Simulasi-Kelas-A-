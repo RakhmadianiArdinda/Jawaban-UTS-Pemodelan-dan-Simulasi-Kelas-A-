{
 "cells": [
  {
   "cell_type": "code",
   "execution_count": 15,
   "id": "b5c0ad00",
   "metadata": {},
   "outputs": [],
   "source": [
    "import pandas as pd\n",
    "import numpy as np\n",
    "import matplotlib.pyplot as plt\n",
    "import seaborn as sns\n",
    "from scipy import interpolate\n",
    "from scipy.interpolate import interp1d \n",
    "from sklearn.metrics import mean_squared_error"
   ]
  },
  {
   "cell_type": "code",
   "execution_count": 2,
   "id": "c7d23d8c",
   "metadata": {},
   "outputs": [],
   "source": [
    "data = pd.read_csv(r\"D:\\DownloadSemua\\industrial_fault_detection_data_1000.csv\")"
   ]
  },
  {
   "cell_type": "code",
   "execution_count": 3,
   "id": "3db3e09f",
   "metadata": {},
   "outputs": [
    {
     "data": {
      "text/html": [
       "<div>\n",
       "<style scoped>\n",
       "    .dataframe tbody tr th:only-of-type {\n",
       "        vertical-align: middle;\n",
       "    }\n",
       "\n",
       "    .dataframe tbody tr th {\n",
       "        vertical-align: top;\n",
       "    }\n",
       "\n",
       "    .dataframe thead th {\n",
       "        text-align: right;\n",
       "    }\n",
       "</style>\n",
       "<table border=\"1\" class=\"dataframe\">\n",
       "  <thead>\n",
       "    <tr style=\"text-align: right;\">\n",
       "      <th></th>\n",
       "      <th>Timestamp</th>\n",
       "      <th>Vibration (mm/s)</th>\n",
       "      <th>Temperature (°C)</th>\n",
       "      <th>Pressure (bar)</th>\n",
       "      <th>RMS Vibration</th>\n",
       "      <th>Mean Temp</th>\n",
       "      <th>Fault Label</th>\n",
       "    </tr>\n",
       "  </thead>\n",
       "  <tbody>\n",
       "    <tr>\n",
       "      <th>0</th>\n",
       "      <td>2023-03-10 00:00:00</td>\n",
       "      <td>0.437086</td>\n",
       "      <td>64.810634</td>\n",
       "      <td>7.785117</td>\n",
       "      <td>0.601657</td>\n",
       "      <td>90.561384</td>\n",
       "      <td>1</td>\n",
       "    </tr>\n",
       "    <tr>\n",
       "      <th>1</th>\n",
       "      <td>2023-03-10 00:01:00</td>\n",
       "      <td>0.955643</td>\n",
       "      <td>93.352076</td>\n",
       "      <td>7.740936</td>\n",
       "      <td>0.601657</td>\n",
       "      <td>90.561384</td>\n",
       "      <td>1</td>\n",
       "    </tr>\n",
       "    <tr>\n",
       "      <th>2</th>\n",
       "      <td>2023-03-10 00:02:00</td>\n",
       "      <td>0.758795</td>\n",
       "      <td>119.835667</td>\n",
       "      <td>9.718764</td>\n",
       "      <td>0.601657</td>\n",
       "      <td>90.561384</td>\n",
       "      <td>0</td>\n",
       "    </tr>\n",
       "    <tr>\n",
       "      <th>3</th>\n",
       "      <td>2023-03-10 00:03:00</td>\n",
       "      <td>0.638793</td>\n",
       "      <td>108.577991</td>\n",
       "      <td>7.748639</td>\n",
       "      <td>0.601657</td>\n",
       "      <td>90.561384</td>\n",
       "      <td>1</td>\n",
       "    </tr>\n",
       "    <tr>\n",
       "      <th>4</th>\n",
       "      <td>2023-03-10 00:04:00</td>\n",
       "      <td>0.240417</td>\n",
       "      <td>114.524892</td>\n",
       "      <td>7.815849</td>\n",
       "      <td>0.601657</td>\n",
       "      <td>90.561384</td>\n",
       "      <td>0</td>\n",
       "    </tr>\n",
       "  </tbody>\n",
       "</table>\n",
       "</div>"
      ],
      "text/plain": [
       "             Timestamp  Vibration (mm/s)  Temperature (°C)  Pressure (bar)  \\\n",
       "0  2023-03-10 00:00:00          0.437086         64.810634        7.785117   \n",
       "1  2023-03-10 00:01:00          0.955643         93.352076        7.740936   \n",
       "2  2023-03-10 00:02:00          0.758795        119.835667        9.718764   \n",
       "3  2023-03-10 00:03:00          0.638793        108.577991        7.748639   \n",
       "4  2023-03-10 00:04:00          0.240417        114.524892        7.815849   \n",
       "\n",
       "   RMS Vibration  Mean Temp  Fault Label  \n",
       "0       0.601657  90.561384            1  \n",
       "1       0.601657  90.561384            1  \n",
       "2       0.601657  90.561384            0  \n",
       "3       0.601657  90.561384            1  \n",
       "4       0.601657  90.561384            0  "
      ]
     },
     "execution_count": 3,
     "metadata": {},
     "output_type": "execute_result"
    }
   ],
   "source": [
    "data.head()"
   ]
  },
  {
   "cell_type": "code",
   "execution_count": 4,
   "id": "a3eb028f",
   "metadata": {},
   "outputs": [
    {
     "data": {
      "text/plain": [
       "(1000, 7)"
      ]
     },
     "execution_count": 4,
     "metadata": {},
     "output_type": "execute_result"
    }
   ],
   "source": [
    "data.shape"
   ]
  },
  {
   "cell_type": "code",
   "execution_count": 6,
   "id": "4baf37a6",
   "metadata": {},
   "outputs": [
    {
     "data": {
      "text/plain": [
       "np.int64(0)"
      ]
     },
     "execution_count": 6,
     "metadata": {},
     "output_type": "execute_result"
    }
   ],
   "source": [
    "data.duplicated().sum()"
   ]
  },
  {
   "cell_type": "code",
   "execution_count": 5,
   "id": "f27e5c53",
   "metadata": {},
   "outputs": [
    {
     "data": {
      "text/plain": [
       "Timestamp           0\n",
       "Vibration (mm/s)    0\n",
       "Temperature (°C)    0\n",
       "Pressure (bar)      0\n",
       "RMS Vibration       0\n",
       "Mean Temp           0\n",
       "Fault Label         0\n",
       "dtype: int64"
      ]
     },
     "execution_count": 5,
     "metadata": {},
     "output_type": "execute_result"
    }
   ],
   "source": [
    "data.isnull().sum()"
   ]
  },
  {
   "cell_type": "code",
   "execution_count": 7,
   "id": "23e5dd8c",
   "metadata": {},
   "outputs": [
    {
     "name": "stdout",
     "output_type": "stream",
     "text": [
      "<class 'pandas.core.frame.DataFrame'>\n",
      "RangeIndex: 1000 entries, 0 to 999\n",
      "Data columns (total 7 columns):\n",
      " #   Column            Non-Null Count  Dtype  \n",
      "---  ------            --------------  -----  \n",
      " 0   Timestamp         1000 non-null   object \n",
      " 1   Vibration (mm/s)  1000 non-null   float64\n",
      " 2   Temperature (°C)  1000 non-null   float64\n",
      " 3   Pressure (bar)    1000 non-null   float64\n",
      " 4   RMS Vibration     1000 non-null   float64\n",
      " 5   Mean Temp         1000 non-null   float64\n",
      " 6   Fault Label       1000 non-null   int64  \n",
      "dtypes: float64(5), int64(1), object(1)\n",
      "memory usage: 54.8+ KB\n"
     ]
    }
   ],
   "source": [
    "data.info()"
   ]
  },
  {
   "cell_type": "code",
   "execution_count": 8,
   "id": "bfc027e9",
   "metadata": {},
   "outputs": [
    {
     "data": {
      "text/plain": [
       "<bound method NDFrame.describe of                Timestamp  Vibration (mm/s)  Temperature (°C)  Pressure (bar)  \\\n",
       "0    2023-03-10 00:00:00          0.437086         64.810634        7.785117   \n",
       "1    2023-03-10 00:01:00          0.955643         93.352076        7.740936   \n",
       "2    2023-03-10 00:02:00          0.758795        119.835667        9.718764   \n",
       "3    2023-03-10 00:03:00          0.638793        108.577991        7.748639   \n",
       "4    2023-03-10 00:04:00          0.240417        114.524892        7.815849   \n",
       "..                   ...               ...               ...             ...   \n",
       "995  2023-03-10 16:35:00          0.182424        102.556413        9.595887   \n",
       "996  2023-03-10 16:36:00          0.925582        126.529170        7.471820   \n",
       "997  2023-03-10 16:37:00          0.223137         55.516641        7.929364   \n",
       "998  2023-03-10 16:38:00          0.955214         54.564378        7.870137   \n",
       "999  2023-03-10 16:39:00          0.501405         72.574966        9.614242   \n",
       "\n",
       "     RMS Vibration  Mean Temp  Fault Label  \n",
       "0         0.601657  90.561384            1  \n",
       "1         0.601657  90.561384            1  \n",
       "2         0.601657  90.561384            0  \n",
       "3         0.601657  90.561384            1  \n",
       "4         0.601657  90.561384            0  \n",
       "..             ...        ...          ...  \n",
       "995       0.601657  90.561384            0  \n",
       "996       0.601657  90.561384            0  \n",
       "997       0.601657  90.561384            0  \n",
       "998       0.601657  90.561384            0  \n",
       "999       0.601657  90.561384            0  \n",
       "\n",
       "[1000 rows x 7 columns]>"
      ]
     },
     "execution_count": 8,
     "metadata": {},
     "output_type": "execute_result"
    }
   ],
   "source": [
    "data.describe"
   ]
  },
  {
   "cell_type": "code",
   "execution_count": 9,
   "id": "3c54f2d7",
   "metadata": {},
   "outputs": [],
   "source": [
    "# pastiin kolom timestamp dalam format datetime \n",
    "data['Timestamp']= pd.to_datetime(data['Timestamp'])"
   ]
  },
  {
   "cell_type": "code",
   "execution_count": 10,
   "id": "ef8be368",
   "metadata": {},
   "outputs": [
    {
     "data": {
      "text/html": [
       "<div>\n",
       "<style scoped>\n",
       "    .dataframe tbody tr th:only-of-type {\n",
       "        vertical-align: middle;\n",
       "    }\n",
       "\n",
       "    .dataframe tbody tr th {\n",
       "        vertical-align: top;\n",
       "    }\n",
       "\n",
       "    .dataframe thead th {\n",
       "        text-align: right;\n",
       "    }\n",
       "</style>\n",
       "<table border=\"1\" class=\"dataframe\">\n",
       "  <thead>\n",
       "    <tr style=\"text-align: right;\">\n",
       "      <th></th>\n",
       "      <th>Timestamp</th>\n",
       "      <th>Vibration (mm/s)</th>\n",
       "      <th>Temperature (°C)</th>\n",
       "      <th>Pressure (bar)</th>\n",
       "      <th>RMS Vibration</th>\n",
       "      <th>Mean Temp</th>\n",
       "      <th>Fault Label</th>\n",
       "    </tr>\n",
       "  </thead>\n",
       "  <tbody>\n",
       "    <tr>\n",
       "      <th>0</th>\n",
       "      <td>2023-03-10 00:00:00</td>\n",
       "      <td>0.437086</td>\n",
       "      <td>64.810634</td>\n",
       "      <td>7.785117</td>\n",
       "      <td>0.601657</td>\n",
       "      <td>90.561384</td>\n",
       "      <td>1</td>\n",
       "    </tr>\n",
       "    <tr>\n",
       "      <th>1</th>\n",
       "      <td>2023-03-10 00:01:00</td>\n",
       "      <td>0.955643</td>\n",
       "      <td>93.352076</td>\n",
       "      <td>7.740936</td>\n",
       "      <td>0.601657</td>\n",
       "      <td>90.561384</td>\n",
       "      <td>1</td>\n",
       "    </tr>\n",
       "    <tr>\n",
       "      <th>2</th>\n",
       "      <td>2023-03-10 00:02:00</td>\n",
       "      <td>0.758795</td>\n",
       "      <td>119.835667</td>\n",
       "      <td>9.718764</td>\n",
       "      <td>0.601657</td>\n",
       "      <td>90.561384</td>\n",
       "      <td>0</td>\n",
       "    </tr>\n",
       "    <tr>\n",
       "      <th>3</th>\n",
       "      <td>2023-03-10 00:03:00</td>\n",
       "      <td>0.638793</td>\n",
       "      <td>108.577991</td>\n",
       "      <td>7.748639</td>\n",
       "      <td>0.601657</td>\n",
       "      <td>90.561384</td>\n",
       "      <td>1</td>\n",
       "    </tr>\n",
       "    <tr>\n",
       "      <th>4</th>\n",
       "      <td>2023-03-10 00:04:00</td>\n",
       "      <td>0.240417</td>\n",
       "      <td>114.524892</td>\n",
       "      <td>7.815849</td>\n",
       "      <td>0.601657</td>\n",
       "      <td>90.561384</td>\n",
       "      <td>0</td>\n",
       "    </tr>\n",
       "  </tbody>\n",
       "</table>\n",
       "</div>"
      ],
      "text/plain": [
       "            Timestamp  Vibration (mm/s)  Temperature (°C)  Pressure (bar)  \\\n",
       "0 2023-03-10 00:00:00          0.437086         64.810634        7.785117   \n",
       "1 2023-03-10 00:01:00          0.955643         93.352076        7.740936   \n",
       "2 2023-03-10 00:02:00          0.758795        119.835667        9.718764   \n",
       "3 2023-03-10 00:03:00          0.638793        108.577991        7.748639   \n",
       "4 2023-03-10 00:04:00          0.240417        114.524892        7.815849   \n",
       "\n",
       "   RMS Vibration  Mean Temp  Fault Label  \n",
       "0       0.601657  90.561384            1  \n",
       "1       0.601657  90.561384            1  \n",
       "2       0.601657  90.561384            0  \n",
       "3       0.601657  90.561384            1  \n",
       "4       0.601657  90.561384            0  "
      ]
     },
     "execution_count": 10,
     "metadata": {},
     "output_type": "execute_result"
    }
   ],
   "source": [
    "data.head()"
   ]
  },
  {
   "cell_type": "code",
   "execution_count": null,
   "id": "705aa86d",
   "metadata": {},
   "outputs": [],
   "source": [
    "# kasih tau kode ini di soal \n",
    "data['minutes'] = (data['Timestamp'] - data['Timestamp'].iloc[0]).dt.total_seconds()/60"
   ]
  },
  {
   "cell_type": "code",
   "execution_count": 12,
   "id": "ceb408a6",
   "metadata": {},
   "outputs": [
    {
     "data": {
      "text/html": [
       "<div>\n",
       "<style scoped>\n",
       "    .dataframe tbody tr th:only-of-type {\n",
       "        vertical-align: middle;\n",
       "    }\n",
       "\n",
       "    .dataframe tbody tr th {\n",
       "        vertical-align: top;\n",
       "    }\n",
       "\n",
       "    .dataframe thead th {\n",
       "        text-align: right;\n",
       "    }\n",
       "</style>\n",
       "<table border=\"1\" class=\"dataframe\">\n",
       "  <thead>\n",
       "    <tr style=\"text-align: right;\">\n",
       "      <th></th>\n",
       "      <th>Timestamp</th>\n",
       "      <th>Vibration (mm/s)</th>\n",
       "      <th>Temperature (°C)</th>\n",
       "      <th>Pressure (bar)</th>\n",
       "      <th>RMS Vibration</th>\n",
       "      <th>Mean Temp</th>\n",
       "      <th>Fault Label</th>\n",
       "      <th>minutes</th>\n",
       "    </tr>\n",
       "  </thead>\n",
       "  <tbody>\n",
       "    <tr>\n",
       "      <th>0</th>\n",
       "      <td>2023-03-10 00:00:00</td>\n",
       "      <td>0.437086</td>\n",
       "      <td>64.810634</td>\n",
       "      <td>7.785117</td>\n",
       "      <td>0.601657</td>\n",
       "      <td>90.561384</td>\n",
       "      <td>1</td>\n",
       "      <td>0.0</td>\n",
       "    </tr>\n",
       "    <tr>\n",
       "      <th>1</th>\n",
       "      <td>2023-03-10 00:01:00</td>\n",
       "      <td>0.955643</td>\n",
       "      <td>93.352076</td>\n",
       "      <td>7.740936</td>\n",
       "      <td>0.601657</td>\n",
       "      <td>90.561384</td>\n",
       "      <td>1</td>\n",
       "      <td>1.0</td>\n",
       "    </tr>\n",
       "    <tr>\n",
       "      <th>2</th>\n",
       "      <td>2023-03-10 00:02:00</td>\n",
       "      <td>0.758795</td>\n",
       "      <td>119.835667</td>\n",
       "      <td>9.718764</td>\n",
       "      <td>0.601657</td>\n",
       "      <td>90.561384</td>\n",
       "      <td>0</td>\n",
       "      <td>2.0</td>\n",
       "    </tr>\n",
       "    <tr>\n",
       "      <th>3</th>\n",
       "      <td>2023-03-10 00:03:00</td>\n",
       "      <td>0.638793</td>\n",
       "      <td>108.577991</td>\n",
       "      <td>7.748639</td>\n",
       "      <td>0.601657</td>\n",
       "      <td>90.561384</td>\n",
       "      <td>1</td>\n",
       "      <td>3.0</td>\n",
       "    </tr>\n",
       "    <tr>\n",
       "      <th>4</th>\n",
       "      <td>2023-03-10 00:04:00</td>\n",
       "      <td>0.240417</td>\n",
       "      <td>114.524892</td>\n",
       "      <td>7.815849</td>\n",
       "      <td>0.601657</td>\n",
       "      <td>90.561384</td>\n",
       "      <td>0</td>\n",
       "      <td>4.0</td>\n",
       "    </tr>\n",
       "  </tbody>\n",
       "</table>\n",
       "</div>"
      ],
      "text/plain": [
       "            Timestamp  Vibration (mm/s)  Temperature (°C)  Pressure (bar)  \\\n",
       "0 2023-03-10 00:00:00          0.437086         64.810634        7.785117   \n",
       "1 2023-03-10 00:01:00          0.955643         93.352076        7.740936   \n",
       "2 2023-03-10 00:02:00          0.758795        119.835667        9.718764   \n",
       "3 2023-03-10 00:03:00          0.638793        108.577991        7.748639   \n",
       "4 2023-03-10 00:04:00          0.240417        114.524892        7.815849   \n",
       "\n",
       "   RMS Vibration  Mean Temp  Fault Label  minutes  \n",
       "0       0.601657  90.561384            1      0.0  \n",
       "1       0.601657  90.561384            1      1.0  \n",
       "2       0.601657  90.561384            0      2.0  \n",
       "3       0.601657  90.561384            1      3.0  \n",
       "4       0.601657  90.561384            0      4.0  "
      ]
     },
     "execution_count": 12,
     "metadata": {},
     "output_type": "execute_result"
    }
   ],
   "source": [
    "data.head()"
   ]
  },
  {
   "cell_type": "code",
   "execution_count": 13,
   "id": "07c22617",
   "metadata": {},
   "outputs": [],
   "source": [
    "x = data['minutes']\n",
    "y = data['Temperature (°C)']"
   ]
  },
  {
   "cell_type": "code",
   "execution_count": 14,
   "id": "64f414bd",
   "metadata": {},
   "outputs": [],
   "source": [
    "# titik yang mau diinterpolasi \n",
    "x_linear = 1.5 \n",
    "x_kuadratik = 2.5 \n",
    "x_cubic = 3.5"
   ]
  },
  {
   "cell_type": "code",
   "execution_count": 16,
   "id": "c1ff8cff",
   "metadata": {},
   "outputs": [
    {
     "name": "stdout",
     "output_type": "stream",
     "text": [
      "Suhu pada menit ke-1.5 (00:01:30) dengan Interpolasi Linear: 106.59°C\n",
      "Suhu pada menit ke-2.5 (00:02:30) dengan Interpolasi Kuadratik: 115.43°C\n",
      "Suhu pada menit ke-1.5 (00:03:30) dengan Interpolasi Cubic: 110.99°C\n"
     ]
    }
   ],
   "source": [
    "# Interpolasi Linear \n",
    "f_linear = interpolate.interp1d(x,y,kind='linear')\n",
    "T_linear = f_linear(x_linear)\n",
    "print(f\"Suhu pada menit ke-1.5 (00:01:30) dengan Interpolasi Linear: {T_linear:.2f}°C\")\n",
    "\n",
    "# Interpolasi Kuadratik \n",
    "f_quad = interpolate.interp1d(x,y,kind='quadratic')\n",
    "T_quad = f_quad(x_kuadratik)\n",
    "print(f\"Suhu pada menit ke-2.5 (00:02:30) dengan Interpolasi Kuadratik: {T_quad:.2f}°C\")\n",
    "\n",
    "# Interpolasi Cubic \n",
    "f_cubic = interpolate.interp1d(x,y,kind='cubic')\n",
    "T_cubic = f_cubic(x_cubic)\n",
    "print(f\"Suhu pada menit ke-1.5 (00:03:30) dengan Interpolasi Cubic: {T_cubic:.2f}°C\")\n"
   ]
  }
 ],
 "metadata": {
  "kernelspec": {
   "display_name": "Python 3",
   "language": "python",
   "name": "python3"
  },
  "language_info": {
   "codemirror_mode": {
    "name": "ipython",
    "version": 3
   },
   "file_extension": ".py",
   "mimetype": "text/x-python",
   "name": "python",
   "nbconvert_exporter": "python",
   "pygments_lexer": "ipython3",
   "version": "3.12.4"
  }
 },
 "nbformat": 4,
 "nbformat_minor": 5
}
